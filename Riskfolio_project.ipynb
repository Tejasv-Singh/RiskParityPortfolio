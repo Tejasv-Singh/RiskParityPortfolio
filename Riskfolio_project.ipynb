{
 "cells": [
  {
   "cell_type": "markdown",
   "metadata": {},
   "source": [
    "We'll use the yfinance library to fetch historical price data for a selected set of assets"
   ]
  },
  {
   "cell_type": "code",
   "execution_count": 13,
   "metadata": {},
   "outputs": [
    {
     "name": "stderr",
     "output_type": "stream",
     "text": [
      "[*********************100%***********************]  8 of 8 completed"
     ]
    },
    {
     "name": "stdout",
     "output_type": "stream",
     "text": [
      "Ticker                          AAPL       AMZN      GOOGL         JNJ  \\\n",
      "Date                                                                     \n",
      "2018-01-02 00:00:00+00:00  40.568932  59.450500  53.527954  115.682426   \n",
      "2018-01-03 00:00:00+00:00  40.561859  60.209999  54.441196  116.787521   \n",
      "2018-01-04 00:00:00+00:00  40.750278  60.479500  54.652668  116.779213   \n",
      "2018-01-05 00:00:00+00:00  41.214218  61.457001  55.377377  117.743019   \n",
      "2018-01-08 00:00:00+00:00  41.061150  62.343498  55.572891  117.892570   \n",
      "\n",
      "Ticker                           JPM       MSFT         PG        XOM  \n",
      "Date                                                                   \n",
      "2018-01-02 00:00:00+00:00  88.566315  79.792923  75.722343  61.637558  \n",
      "2018-01-03 00:00:00+00:00  88.656609  80.164238  75.630470  62.848103  \n",
      "2018-01-04 00:00:00+00:00  89.926651  80.869804  76.165085  62.935089  \n",
      "2018-01-05 00:00:00+00:00  89.349342  81.872459  76.215210  62.884357  \n",
      "2018-01-08 00:00:00+00:00  89.481300  81.956009  76.616158  63.167080  \n"
     ]
    },
    {
     "name": "stderr",
     "output_type": "stream",
     "text": [
      "\n"
     ]
    }
   ],
   "source": [
    "import yfinance as yf\n",
    "import pandas as pd\n",
    "\n",
    "# Define the list of tickers\n",
    "tickers = ['AAPL', 'MSFT', 'AMZN', 'JNJ', 'JPM', 'XOM', 'PG', 'GOOGL']\n",
    "\n",
    "# Define the time period\n",
    "start_date = '2018-01-01'\n",
    "end_date = '2024-10-01'\n",
    "\n",
    "# Fetch adjusted closing prices\n",
    "prices = yf.download(tickers, start=start_date, end=end_date)['Adj Close']\n",
    "\n",
    "# Display the first few rows\n",
    "print(prices.head())\n"
   ]
  },
  {
   "cell_type": "markdown",
   "metadata": {},
   "source": [
    "Data Processing\n",
    "Calculation of the daily returns and prepare the data for portfolio optimization."
   ]
  },
  {
   "cell_type": "code",
   "execution_count": 14,
   "metadata": {},
   "outputs": [
    {
     "name": "stdout",
     "output_type": "stream",
     "text": [
      "Ticker                         AAPL      AMZN     GOOGL       JNJ       JPM  \\\n",
      "Date                                                                          \n",
      "2018-01-03 00:00:00+00:00 -0.000174  0.012775  0.017061  0.009553  0.001020   \n",
      "2018-01-04 00:00:00+00:00  0.004645  0.004476  0.003884 -0.000071  0.014325   \n",
      "2018-01-05 00:00:00+00:00  0.011385  0.016163  0.013260  0.008253 -0.006420   \n",
      "2018-01-08 00:00:00+00:00 -0.003714  0.014425  0.003531  0.001270  0.001477   \n",
      "2018-01-09 00:00:00+00:00 -0.000115  0.004676 -0.001274  0.015857  0.005069   \n",
      "\n",
      "Ticker                         MSFT        PG       XOM  \n",
      "Date                                                     \n",
      "2018-01-03 00:00:00+00:00  0.004653 -0.001213  0.019640  \n",
      "2018-01-04 00:00:00+00:00  0.008802  0.007069  0.001384  \n",
      "2018-01-05 00:00:00+00:00  0.012398  0.000658 -0.000806  \n",
      "2018-01-08 00:00:00+00:00  0.001020  0.005261  0.004496  \n",
      "2018-01-09 00:00:00+00:00 -0.000680 -0.007305 -0.004246  \n"
     ]
    }
   ],
   "source": [
    "# Calculate daily returns\n",
    "returns = prices.pct_change().dropna()\n",
    "\n",
    "# Display the first few rows of returns\n",
    "print(returns.head())\n"
   ]
  },
  {
   "cell_type": "markdown",
   "metadata": {},
   "source": [
    "Portfolio Construction\n",
    "We'll construct two portfolios:\n",
    "\n",
    "Equally Weighted Portfolio: Each asset has an equal weight.\n",
    "Risk Parity Portfolio: Each asset contributes equally to the overall portfolio risk.\n"
   ]
  },
  {
   "cell_type": "markdown",
   "metadata": {},
   "source": [
    "A. Equally Weighted Portfolio"
   ]
  },
  {
   "cell_type": "code",
   "execution_count": 15,
   "metadata": {},
   "outputs": [
    {
     "name": "stdout",
     "output_type": "stream",
     "text": [
      "Equally Weighted Portfolio:\n",
      "AAPL     0.125\n",
      "MSFT     0.125\n",
      "AMZN     0.125\n",
      "JNJ      0.125\n",
      "JPM      0.125\n",
      "XOM      0.125\n",
      "PG       0.125\n",
      "GOOGL    0.125\n",
      "dtype: float64\n"
     ]
    }
   ],
   "source": [
    "# Number of assets\n",
    "num_assets = len(tickers)\n",
    "\n",
    "# Equal weights\n",
    "equal_weights = pd.Series([1/num_assets]*num_assets, index=tickers)\n",
    "\n",
    "print(\"Equally Weighted Portfolio:\")\n",
    "print(equal_weights)\n"
   ]
  },
  {
   "cell_type": "markdown",
   "metadata": {},
   "source": [
    "B. Risk Parity Portfolio\n"
   ]
  },
  {
   "cell_type": "code",
   "execution_count": 16,
   "metadata": {},
   "outputs": [
    {
     "ename": "ValueError",
     "evalue": "object arrays are not supported",
     "output_type": "error",
     "traceback": [
      "\u001b[0;31m---------------------------------------------------------------------------\u001b[0m",
      "\u001b[0;31mValueError\u001b[0m                                Traceback (most recent call last)",
      "Cell \u001b[0;32mIn[16], line 10\u001b[0m\n\u001b[1;32m      7\u001b[0m port\u001b[38;5;241m.\u001b[39massets_stats(method_mu\u001b[38;5;241m=\u001b[39m\u001b[38;5;124m'\u001b[39m\u001b[38;5;124mhist\u001b[39m\u001b[38;5;124m'\u001b[39m, method_cov\u001b[38;5;241m=\u001b[39m\u001b[38;5;124m'\u001b[39m\u001b[38;5;124mhist\u001b[39m\u001b[38;5;124m'\u001b[39m)\n\u001b[1;32m      9\u001b[0m \u001b[38;5;66;03m# Perform Risk Parity optimization\u001b[39;00m\n\u001b[0;32m---> 10\u001b[0m risk_parity_weights \u001b[38;5;241m=\u001b[39m \u001b[43mport\u001b[49m\u001b[38;5;241;43m.\u001b[39;49m\u001b[43moptimization\u001b[49m\u001b[43m(\u001b[49m\u001b[43mmodel\u001b[49m\u001b[38;5;241;43m=\u001b[39;49m\u001b[38;5;124;43m'\u001b[39;49m\u001b[38;5;124;43mRiskParity\u001b[39;49m\u001b[38;5;124;43m'\u001b[39;49m\u001b[43m)\u001b[49m\n\u001b[1;32m     12\u001b[0m \u001b[38;5;28mprint\u001b[39m(\u001b[38;5;124m\"\u001b[39m\u001b[38;5;124mRisk Parity Portfolio Weights:\u001b[39m\u001b[38;5;124m\"\u001b[39m)\n\u001b[1;32m     13\u001b[0m \u001b[38;5;28mprint\u001b[39m(risk_parity_weights)\n",
      "File \u001b[0;32m~/.local/lib/python3.10/site-packages/riskfolio/src/Portfolio.py:1654\u001b[0m, in \u001b[0;36mPortfolio.optimization\u001b[0;34m(self, model, rm, obj, kelly, rf, l, hist)\u001b[0m\n\u001b[1;32m   1652\u001b[0m \u001b[38;5;28;01mif\u001b[39;00m \u001b[38;5;28mself\u001b[39m\u001b[38;5;241m.\u001b[39mnetwork_sdp \u001b[38;5;129;01mis\u001b[39;00m \u001b[38;5;28;01mNone\u001b[39;00m \u001b[38;5;129;01mand\u001b[39;00m \u001b[38;5;28mself\u001b[39m\u001b[38;5;241m.\u001b[39mcluster_sdp \u001b[38;5;129;01mis\u001b[39;00m \u001b[38;5;28;01mNone\u001b[39;00m:\n\u001b[1;32m   1653\u001b[0m     g \u001b[38;5;241m=\u001b[39m cp\u001b[38;5;241m.\u001b[39mVariable(nonneg\u001b[38;5;241m=\u001b[39m\u001b[38;5;28;01mTrue\u001b[39;00m)\n\u001b[0;32m-> 1654\u001b[0m     G \u001b[38;5;241m=\u001b[39m \u001b[43msqrtm\u001b[49m\u001b[43m(\u001b[49m\u001b[43msigma\u001b[49m\u001b[43m)\u001b[49m\n\u001b[1;32m   1655\u001b[0m     risk1 \u001b[38;5;241m=\u001b[39m g\u001b[38;5;241m*\u001b[39m\u001b[38;5;241m*\u001b[39m\u001b[38;5;241m2\u001b[39m\n\u001b[1;32m   1656\u001b[0m     devconstraints \u001b[38;5;241m=\u001b[39m [cp\u001b[38;5;241m.\u001b[39mSOC(g, G\u001b[38;5;241m.\u001b[39mT \u001b[38;5;241m@\u001b[39m w)]\n",
      "File \u001b[0;32m~/.local/lib/python3.10/site-packages/scipy/linalg/_matfuncs_sqrtm.py:167\u001b[0m, in \u001b[0;36msqrtm\u001b[0;34m(A, disp, blocksize)\u001b[0m\n\u001b[1;32m    118\u001b[0m \u001b[38;5;250m\u001b[39m\u001b[38;5;124;03m\"\"\"\u001b[39;00m\n\u001b[1;32m    119\u001b[0m \u001b[38;5;124;03mMatrix square root.\u001b[39;00m\n\u001b[1;32m    120\u001b[0m \n\u001b[0;32m   (...)\u001b[0m\n\u001b[1;32m    164\u001b[0m \n\u001b[1;32m    165\u001b[0m \u001b[38;5;124;03m\"\"\"\u001b[39;00m\n\u001b[1;32m    166\u001b[0m byte_size \u001b[38;5;241m=\u001b[39m np\u001b[38;5;241m.\u001b[39masarray(A)\u001b[38;5;241m.\u001b[39mdtype\u001b[38;5;241m.\u001b[39mitemsize\n\u001b[0;32m--> 167\u001b[0m A \u001b[38;5;241m=\u001b[39m \u001b[43m_asarray_validated\u001b[49m\u001b[43m(\u001b[49m\u001b[43mA\u001b[49m\u001b[43m,\u001b[49m\u001b[43m \u001b[49m\u001b[43mcheck_finite\u001b[49m\u001b[38;5;241;43m=\u001b[39;49m\u001b[38;5;28;43;01mTrue\u001b[39;49;00m\u001b[43m,\u001b[49m\u001b[43m \u001b[49m\u001b[43mas_inexact\u001b[49m\u001b[38;5;241;43m=\u001b[39;49m\u001b[38;5;28;43;01mTrue\u001b[39;49;00m\u001b[43m)\u001b[49m\n\u001b[1;32m    168\u001b[0m \u001b[38;5;28;01mif\u001b[39;00m \u001b[38;5;28mlen\u001b[39m(A\u001b[38;5;241m.\u001b[39mshape) \u001b[38;5;241m!=\u001b[39m \u001b[38;5;241m2\u001b[39m:\n\u001b[1;32m    169\u001b[0m     \u001b[38;5;28;01mraise\u001b[39;00m \u001b[38;5;167;01mValueError\u001b[39;00m(\u001b[38;5;124m\"\u001b[39m\u001b[38;5;124mNon-matrix input to matrix function.\u001b[39m\u001b[38;5;124m\"\u001b[39m)\n",
      "File \u001b[0;32m~/.local/lib/python3.10/site-packages/scipy/_lib/_util.py:324\u001b[0m, in \u001b[0;36m_asarray_validated\u001b[0;34m(a, check_finite, sparse_ok, objects_ok, mask_ok, as_inexact)\u001b[0m\n\u001b[1;32m    322\u001b[0m \u001b[38;5;28;01mif\u001b[39;00m \u001b[38;5;129;01mnot\u001b[39;00m objects_ok:\n\u001b[1;32m    323\u001b[0m     \u001b[38;5;28;01mif\u001b[39;00m a\u001b[38;5;241m.\u001b[39mdtype \u001b[38;5;129;01mis\u001b[39;00m np\u001b[38;5;241m.\u001b[39mdtype(\u001b[38;5;124m'\u001b[39m\u001b[38;5;124mO\u001b[39m\u001b[38;5;124m'\u001b[39m):\n\u001b[0;32m--> 324\u001b[0m         \u001b[38;5;28;01mraise\u001b[39;00m \u001b[38;5;167;01mValueError\u001b[39;00m(\u001b[38;5;124m'\u001b[39m\u001b[38;5;124mobject arrays are not supported\u001b[39m\u001b[38;5;124m'\u001b[39m)\n\u001b[1;32m    325\u001b[0m \u001b[38;5;28;01mif\u001b[39;00m as_inexact:\n\u001b[1;32m    326\u001b[0m     \u001b[38;5;28;01mif\u001b[39;00m \u001b[38;5;129;01mnot\u001b[39;00m np\u001b[38;5;241m.\u001b[39missubdtype(a\u001b[38;5;241m.\u001b[39mdtype, np\u001b[38;5;241m.\u001b[39minexact):\n",
      "\u001b[0;31mValueError\u001b[0m: object arrays are not supported"
     ]
    }
   ],
   "source": [
    "import riskfolio as rp\n",
    "\n",
    "# Create a Portfolio object\n",
    "port = rp.Portfolio(returns=returns)\n",
    "\n",
    "# Estimate the mean and covariance using historical data\n",
    "port.assets_stats(method_mu='hist', method_cov='hist')\n",
    "\n",
    "# Perform Risk Parity optimization\n",
    "risk_parity_weights = port.optimization(model='RiskParity')\n",
    "\n",
    "print(\"Risk Parity Portfolio Weights:\")\n",
    "print(risk_parity_weights)\n"
   ]
  },
  {
   "cell_type": "markdown",
   "metadata": {},
   "source": [
    "Performance Analysis\n",
    "Compare the performance metrics of both portfolios over the same period."
   ]
  },
  {
   "cell_type": "code",
   "execution_count": null,
   "metadata": {},
   "outputs": [],
   "source": [
    "# Function to calculate portfolio returns\n",
    "def portfolio_return(weights, returns):\n",
    "    return returns.dot(weights)\n",
    "\n",
    "# Calculate daily returns for both portfolios\n",
    "equal_portfolio_returns = portfolio_return(equal_weights, returns)\n",
    "risk_parity_portfolio_returns = portfolio_return(risk_parity_weights, returns)\n",
    "\n",
    "# Combine into a DataFrame\n",
    "portfolio_returns = pd.DataFrame({\n",
    "    'Equally Weighted': equal_portfolio_returns,\n",
    "    'Risk Parity': risk_parity_portfolio_returns\n",
    "})\n",
    "\n",
    "# Calculate cumulative returns\n",
    "cumulative_returns = (1 + portfolio_returns).cumprod()\n",
    "\n",
    "# Display cumulative returns\n",
    "print(cumulative_returns.tail())\n"
   ]
  },
  {
   "cell_type": "markdown",
   "metadata": {},
   "source": [
    "Performance Metrics:\n",
    "\n",
    "Calculate key performance metrics such as:\n",
    "\n",
    "Cumulative Returns\n",
    "Annualized Return\n",
    "Annualized Volatility\n",
    "Sharpe Ratio\n",
    "Maximum Drawdown"
   ]
  },
  {
   "cell_type": "code",
   "execution_count": null,
   "metadata": {},
   "outputs": [],
   "source": [
    "import numpy as np\n",
    "\n",
    "def performance_metrics(returns):\n",
    "    metrics = {}\n",
    "    metrics['Cumulative Return'] = (1 + returns).prod() - 1\n",
    "    metrics['Annualized Return'] = returns.mean() * 252\n",
    "    metrics['Annualized Volatility'] = returns.std() * np.sqrt(252)\n",
    "    metrics['Sharpe Ratio'] = metrics['Annualized Return'] / metrics['Annualized Volatility']\n",
    "    metrics['Maximum Drawdown'] = (returns.cumprod().cummax() - returns.cumprod()).max()\n",
    "    return metrics\n",
    "\n",
    "# Calculate metrics for both portfolios\n",
    "metrics_equal = performance_metrics(equal_portfolio_returns)\n",
    "metrics_risk_parity = performance_metrics(risk_parity_portfolio_returns)\n",
    "\n",
    "# Create a DataFrame for comparison\n",
    "metrics_df = pd.DataFrame({\n",
    "    'Equally Weighted': metrics_equal,\n",
    "    'Risk Parity': metrics_risk_parity\n",
    "})\n",
    "\n",
    "print(metrics_df)\n"
   ]
  },
  {
   "cell_type": "markdown",
   "metadata": {},
   "source": [
    "##Visualization\n",
    "Visualize the portfolio allocations and performance."
   ]
  },
  {
   "cell_type": "markdown",
   "metadata": {},
   "source": [
    "A. Portfolio allocation pychart"
   ]
  },
  {
   "cell_type": "code",
   "execution_count": null,
   "metadata": {},
   "outputs": [],
   "source": [
    "import matplotlib.pyplot as plt\n",
    "\n",
    "# Plot Equally Weighted Portfolio\n",
    "plt.figure(figsize=(12, 6))\n",
    "\n",
    "plt.subplot(1, 2, 1)\n",
    "equal_weights.plot.pie(autopct='%.2f%%', startangle=90)\n",
    "plt.title('Equally Weighted Portfolio Allocation')\n",
    "\n",
    "# Plot Risk Parity Portfolio\n",
    "plt.subplot(1, 2, 2)\n",
    "risk_parity_weights.plot.pie(autopct='%.2f%%', startangle=90)\n",
    "plt.title('Risk Parity Portfolio Allocation')\n",
    "\n",
    "plt.tight_layout()\n",
    "plt.show()\n"
   ]
  },
  {
   "cell_type": "markdown",
   "metadata": {},
   "source": [
    "B. Cumulative Returns Comparison"
   ]
  },
  {
   "cell_type": "code",
   "execution_count": null,
   "metadata": {},
   "outputs": [],
   "source": [
    "import seaborn as sns\n",
    "\n",
    "# Plot cumulative returns\n",
    "plt.figure(figsize=(10, 6))\n",
    "sns.lineplot(data=cumulative_returns)\n",
    "plt.title('Cumulative Returns Comparison')\n",
    "plt.xlabel('Date')\n",
    "plt.ylabel('Cumulative Returns')\n",
    "plt.legend(loc='best')\n",
    "plt.show()\n"
   ]
  },
  {
   "cell_type": "markdown",
   "metadata": {},
   "source": [
    "C. Rolling Sharpe Ratio\n",
    "Calculate and plot the rolling Sharpe ratio to assess the risk-adjusted performance over time."
   ]
  },
  {
   "cell_type": "code",
   "execution_count": null,
   "metadata": {},
   "outputs": [],
   "source": [
    "rolling_window = 252  # 1 year\n",
    "\n",
    "# Calculate rolling Sharpe Ratio\n",
    "rolling_sharpe_equal = (equal_portfolio_returns.rolling(window=rolling_window).mean() / \n",
    "                        equal_portfolio_returns.rolling(window=rolling_window).std()) * np.sqrt(252)\n",
    "\n",
    "rolling_sharpe_risk = (risk_parity_portfolio_returns.rolling(window=rolling_window).mean() / \n",
    "                       risk_parity_portfolio_returns.rolling(window=rolling_window).std()) * np.sqrt(252)\n",
    "\n",
    "# Combine into DataFrame\n",
    "rolling_sharpe = pd.DataFrame({\n",
    "    'Equally Weighted': rolling_sharpe_equal,\n",
    "    'Risk Parity': rolling_sharpe_risk\n",
    "})\n",
    "\n",
    "# Plot rolling Sharpe Ratio\n",
    "plt.figure(figsize=(10, 6))\n",
    "sns.lineplot(data=rolling_sharpe)\n",
    "plt.title('Rolling Sharpe Ratio (1-Year Window)')\n",
    "plt.xlabel('Date')\n",
    "plt.ylabel('Sharpe Ratio')\n",
    "plt.legend(loc='best')\n",
    "plt.show()\n"
   ]
  }
 ],
 "metadata": {
  "kernelspec": {
   "display_name": "Python 3",
   "language": "python",
   "name": "python3"
  },
  "language_info": {
   "codemirror_mode": {
    "name": "ipython",
    "version": 3
   },
   "file_extension": ".py",
   "mimetype": "text/x-python",
   "name": "python",
   "nbconvert_exporter": "python",
   "pygments_lexer": "ipython3",
   "version": "3.10.12"
  }
 },
 "nbformat": 4,
 "nbformat_minor": 2
}
